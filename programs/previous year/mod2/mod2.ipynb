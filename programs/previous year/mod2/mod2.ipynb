{
 "cells": [
  {
   "cell_type": "code",
   "execution_count": 1,
   "metadata": {},
   "outputs": [
    {
     "name": "stdout",
     "output_type": "stream",
     "text": [
      "[0, 1, 4, 9, 16, 25, 36, 49, 64, 81]\n",
      "[0, 1, 4, 9, 16, 25, 36, 49, 64, 81]\n"
     ]
    }
   ],
   "source": [
    "'''Write a python program to create a list of squares for the numbers from 0 to 9\n",
    "using list comprehension.'''\n",
    "\n",
    "a=list(range(10))\n",
    "l=[]\n",
    "for i in a:\n",
    "    r=i*i\n",
    "    l.append(r)\n",
    "print(l)\n",
    "s=[i**2 for i in range(10)]\n",
    "print(s)"
   ]
  },
  {
   "cell_type": "code",
   "execution_count": 2,
   "metadata": {},
   "outputs": [
    {
     "name": "stdout",
     "output_type": "stream",
     "text": [
      "2 4 6 8 10 12 14 16 18 20 22 24 "
     ]
    }
   ],
   "source": [
    "#Write a user-defined function to generate even numbers between 1 and 25.\n",
    "\n",
    "def even(n):\n",
    "    for i in range (1,n+1):\n",
    "        if i %2==0:\n",
    "            print(i,end=\" \")\n",
    "even(25)"
   ]
  },
  {
   "cell_type": "code",
   "execution_count": 7,
   "metadata": {},
   "outputs": [
    {
     "name": "stdout",
     "output_type": "stream",
     "text": [
      "the age of bob is: 45\n"
     ]
    }
   ],
   "source": [
    "'''Create a Python program that uses a dictionary to store the names and ages of\n",
    "people. Ask the user to enter a name, and the program should display the age of\n",
    "that person.'''\n",
    "\n",
    "n={\"harry\":30,\"bob\":45}\n",
    "i=input(\"enter name\")\n",
    "if i in n:\n",
    "    print(f\"the age of {i} is: {n[i]}\")\n"
   ]
  },
  {
   "cell_type": "code",
   "execution_count": 8,
   "metadata": {},
   "outputs": [
    {
     "name": "stdout",
     "output_type": "stream",
     "text": [
      "['malayalam', 'bob', 'madam']\n"
     ]
    }
   ],
   "source": [
    "#Write a Python program to print all palindromes in a line of text.\n",
    "\n",
    "s=\"heelo malayalam bob madam hello\"\n",
    "sq=s.split()\n",
    "l=[]\n",
    "for i in sq:\n",
    "    i=i.lower()\n",
    "    if i==i[::-1]:\n",
    "        l.append(i)\n",
    "if l==[]:\n",
    "    print(\"empty\")       \n",
    "else: \n",
    " print(l) \n",
    "\n"
   ]
  },
  {
   "cell_type": "code",
   "execution_count": 9,
   "metadata": {},
   "outputs": [
    {
     "name": "stdout",
     "output_type": "stream",
     "text": [
      "Sum of the series for x = 5.0 and n = 5 terms: 2.528397817460318\n"
     ]
    }
   ],
   "source": [
    "\"\"\"Write a Python program to compute the sum of the series (1- x^2/2! +x^4/4!....x^6/6!+..........n terms).\"\"\"\n",
    "\n",
    "import math\n",
    "\n",
    "def series_sum(x, n):\n",
    "    sum_series = 1  \n",
    "    sign = -1 \n",
    "    for i in range(2, 2 * n, 2):  \n",
    "        sum_series += sign * (x ** i) / math.factorial(i)\n",
    "        sign *= -1  \n",
    "\n",
    "    return sum_series\n",
    "x = float(input(\"Enter the value of x: \"))\n",
    "n = int(input(\"Enter the number of terms (n): \"))\n",
    "\n",
    "result = series_sum(x, n)\n",
    "print(f\"Sum of the series for x = {x} and n = {n} terms: {result}\")\n"
   ]
  },
  {
   "cell_type": "code",
   "execution_count": 10,
   "metadata": {},
   "outputs": [
    {
     "name": "stdout",
     "output_type": "stream",
     "text": [
      "111\n"
     ]
    }
   ],
   "source": [
    "#Write a Python program to convert a decimal number to its binary equivalent.\n",
    "\n",
    "n=int(input(\"enter the decimal number\"))\n",
    "b=\"\"\n",
    "while n>0:\n",
    "    b=str(n%2) +b\n",
    "    n=n//2\n",
    "print(b)"
   ]
  },
  {
   "cell_type": "code",
   "execution_count": 14,
   "metadata": {},
   "outputs": [
    {
     "name": "stdout",
     "output_type": "stream",
     "text": [
      "{'h': 2, 'e': 2, 'l': 2, 'o': 3, ' ': 3, 'w': 1, 'a': 1, 'r': 1, 'y': 1, 'u': 1}\n"
     ]
    }
   ],
   "source": [
    "\"\"\"Write a Python program to read a text file and store the count of occurrences of\n",
    "each character in a dictionary.\"\"\"\n",
    "\n",
    "file=open(\"hello.txt\",\"r\")\n",
    "count={}\n",
    "for line in file:\n",
    "    for char in line:\n",
    "        count[char]=count.get(char,0)+1\n",
    "file.close()\n",
    "print(count)\n",
    "#for char,count in count.items():\n",
    "  #  print(f\"'{char}' : {count}\")"
   ]
  },
  {
   "cell_type": "code",
   "execution_count": 15,
   "metadata": {},
   "outputs": [
    {
     "name": "stdout",
     "output_type": "stream",
     "text": [
      "The GCD of 12 and 26 is: 2\n"
     ]
    }
   ],
   "source": [
    "#Write a recursive function in python to find GCD of two numbers.\n",
    "\n",
    "def gcd(a, b):\n",
    "    if b == 0:\n",
    "        return a\n",
    "    return gcd(b, a % b)\n",
    "\n",
    "num1 = int(input(\"Enter the first number: \"))\n",
    "num2 = int(input(\"Enter the second number: \"))\n",
    "print(f\"The GCD of {num1} and {num2} is: {gcd(num1, num2)}\")\n"
   ]
  },
  {
   "cell_type": "code",
   "execution_count": 16,
   "metadata": {},
   "outputs": [
    {
     "name": "stdout",
     "output_type": "stream",
     "text": [
      "['Python', 'rules!']\n",
      "PYTHON RULES!\n",
      "7\n",
      "Python rules?\n"
     ]
    }
   ],
   "source": [
    "\"\"\"Assume that the variable data refers to the string \"Python rules!\".use a string\n",
    "method to perform the following tasks:\n",
    "a. Obtain a list of the words in the string.\n",
    "b. Convert the string to uppercase.\n",
    "c. Locate the position of the string \"rules\" .\n",
    "d. Replace the exclamation point with a question mark.\"\"\"\n",
    "\n",
    "s=\"Python rules!\"\n",
    "print(s.split())\n",
    "print(s.upper())\n",
    "print(s.find(\"rules\"))\n",
    "print(s.replace(\"!\",\"?\"))"
   ]
  },
  {
   "cell_type": "code",
   "execution_count": 18,
   "metadata": {},
   "outputs": [
    {
     "name": "stdout",
     "output_type": "stream",
     "text": [
      "1\n"
     ]
    }
   ],
   "source": [
    "\"\"\"Write a code segment that opens a file for input and prints the number of four-\n",
    "letter words in the file\"\"\"\n",
    "\n",
    "file=open(\"hello.txt\",\"r\")\n",
    "count=1\n",
    "for line in file:\n",
    "    words=line.split()\n",
    "    for word in words:\n",
    "        if len(word)==4:\n",
    "            count+=1\n",
    "file.close()\n",
    "print(count)"
   ]
  },
  {
   "cell_type": "code",
   "execution_count": 20,
   "metadata": {},
   "outputs": [
    {
     "name": "stdout",
     "output_type": "stream",
     "text": [
      "3\n"
     ]
    }
   ],
   "source": [
    "\"\"\"Assume that there is a text file named\"hello.txt.Write a python program to\n",
    "find the median of list of numbers in the file without using standard function for\n",
    "median.\"\"\"\n",
    "file=open(\"number.txt\",\"r\")\n",
    "n=[int(x) for x in file.read().split()]\n",
    "file.close()\n",
    "n.sort()\n",
    "num=len(n)\n",
    "if num%2==1:\n",
    "    m=n[num//2]\n",
    "else:\n",
    "    m=(n[num//2-1]+n[num//2])/2\n",
    "print(m)"
   ]
  },
  {
   "cell_type": "code",
   "execution_count": 21,
   "metadata": {},
   "outputs": [
    {
     "name": "stdout",
     "output_type": "stream",
     "text": [
      "[5, 6]\n"
     ]
    }
   ],
   "source": [
    "\"\"\"Use higher order python function filter to extract a list of positive numbers from\n",
    "a given list of numbers. You should use a lambda to create the auxiliary function.\"\"\"\n",
    "\n",
    "n=[-2,-4,5,-6,6,-5,-4]\n",
    "p=list(filter(lambda x:x>0,n))\n",
    "print(p)"
   ]
  },
  {
   "cell_type": "code",
   "execution_count": 23,
   "metadata": {},
   "outputs": [
    {
     "name": "stdout",
     "output_type": "stream",
     "text": [
      "Encrypted: lqydgh\n",
      "Decrypted: invade\n"
     ]
    }
   ],
   "source": [
    "\"\"\"Write a Python program to implement Caesar cipher encryption and decryption\n",
    "on a string of lowercase letters. Take distance value and the string as input. (Hint:\n",
    "Caesar cipher encryption strategy replaces each character in the plaintext with the\n",
    "character that occurs a given distance away in the sequence.\"\"\"\n",
    "\n",
    "def caesar_cipher(text, shift):\n",
    "    encrypted_text = \"\"\n",
    "    for char in text:\n",
    "        if 'a' <= char <= 'z':  \n",
    "            encrypted_text += chr(((ord(char) - ord('a') + shift) % 26) + ord('a'))\n",
    "        else:\n",
    "            encrypted_text += char  \n",
    "    return encrypted_text\n",
    "\n",
    "def caesar_decipher(text, shift):\n",
    "    return caesar_cipher(text, -shift)  \n",
    "\n",
    "text = input(\"Enter the string to encrypt: \").lower()\n",
    "shift = int(input(\"Enter the shift value: \"))\n",
    "\n",
    "encrypted = caesar_cipher(text, shift)\n",
    "decrypted = caesar_decipher(encrypted, shift)\n",
    "\n",
    "print(\"Encrypted:\", encrypted)\n",
    "print(\"Decrypted:\", decrypted)\n"
   ]
  },
  {
   "cell_type": "code",
   "execution_count": 24,
   "metadata": {},
   "outputs": [
    {
     "name": "stdout",
     "output_type": "stream",
     "text": [
      "True\n",
      "False\n"
     ]
    }
   ],
   "source": [
    "\"\"\"Write a Python program to check whether a list contains a sublist.\n",
    "Eg. Input 1: my_list = [3,4,5,2,7,8] , sub_list = [2,7]\n",
    "output 1: True\n",
    "input 2: my_list = [3,4,5,2,7,8] , sub_list = [5,7]\n",
    "output 2: False\n",
    "\"\"\"\n",
    "def is_sublist(main_list, sub_list):\n",
    "    for i in range(len(main_list) - len(sub_list) + 1):\n",
    "        if main_list[i:i + len(sub_list)] == sub_list:\n",
    "            return True\n",
    "    return False\n",
    "my_list = [3, 4, 5, 2, 7, 8]\n",
    "sub_list1 = [2, 7]\n",
    "sub_list2 = [5, 7]\n",
    "\n",
    "print(is_sublist(my_list, sub_list1))  \n",
    "print(is_sublist(my_list, sub_list2))  \n"
   ]
  },
  {
   "cell_type": "code",
   "execution_count": 25,
   "metadata": {},
   "outputs": [
    {
     "name": "stdout",
     "output_type": "stream",
     "text": [
      "PROGRAMMING IN PYTHON\n"
     ]
    }
   ],
   "source": [
    "\"\"\"Write Python code for the following statements\n",
    "i)writes the text \"PROGRAMMING IN PYTHON\" to a file with name code.txt\n",
    "ii) then reads the text again and prints it to the screen.\"\"\"\n",
    "\n",
    "file=open(\"code.txt\",\"w\")\n",
    "file.write(\"PROGRAMMING IN PYTHON\")\n",
    "file.close()\n",
    "read=open(\"code.txt\",\"r\")\n",
    "for line in read:\n",
    "    print(line)"
   ]
  },
  {
   "cell_type": "code",
   "execution_count": 26,
   "metadata": {},
   "outputs": [
    {
     "name": "stdout",
     "output_type": "stream",
     "text": [
      "{'h': 1, 'e': 1, 'l': 3, 'o': 2, ' ': 1, 'w': 1, 'r': 1, 'd': 1}\n"
     ]
    }
   ],
   "source": [
    "\"\"\"Write a Python program to count how many times each character appears in a\n",
    "given string and store the count in a dictionary with key as the character.\"\"\"\n",
    "\n",
    "s=\"hello world\"\n",
    "count={}\n",
    "for i in s:\n",
    "    if i in count:\n",
    "        count[i]+=1\n",
    "    else:\n",
    "        count[i]=1\n",
    "print(count)\n"
   ]
  },
  {
   "cell_type": "code",
   "execution_count": 29,
   "metadata": {},
   "outputs": [
    {
     "name": "stdout",
     "output_type": "stream",
     "text": [
      "the smallest number is 3\n",
      "the largest number is 56\n"
     ]
    }
   ],
   "source": [
    "\"\"\"Create a function min_max() that takes n numbers as list argument and return the\n",
    "smallest and largest numbers.\"\"\"\n",
    "\n",
    "def min_max(n):\n",
    "    min=n[0]\n",
    "    max=n[0]\n",
    "    for i in n:\n",
    "        if i<min:\n",
    "            min=i\n",
    "        if i>max:\n",
    "            max=i\n",
    "    return min,max\n",
    "\n",
    "n=[3,56,3,5,23,4]\n",
    "min,max=min_max(n)\n",
    "print(f\"the smallest number is {min}\\nthe largest number is {max}\")\n"
   ]
  },
  {
   "cell_type": "code",
   "execution_count": 33,
   "metadata": {},
   "outputs": [
    {
     "name": "stdout",
     "output_type": "stream",
     "text": [
      "the positive numbers are [5, 6, 4, 7]\n",
      "the negative numbers are [-9, -2, -4]\n"
     ]
    }
   ],
   "source": [
    "\"\"\"Write a Python program to read n integers into a list and separate the positive\n",
    "and negative numbers into two different lists.\"\"\"\n",
    "\n",
    "n=list(map(int,input().split()))\n",
    "p=[]\n",
    "neg=[]\n",
    "for i in n:\n",
    "    if i>=0:\n",
    "        p.append(i)\n",
    "    else:\n",
    "        neg.append(i)\n",
    "print(f\"the positive numbers are {p}\\nthe negative numbers are {neg}\")"
   ]
  },
  {
   "cell_type": "code",
   "execution_count": 34,
   "metadata": {},
   "outputs": [
    {
     "name": "stdout",
     "output_type": "stream",
     "text": [
      "the birthday of bob is: 13 june\n"
     ]
    }
   ],
   "source": [
    "\"\"\"Create a dictionary of names and birthdays. Write a Python program that asks\n",
    "the user to enter a name, and the program display the birthday of that person.\"\"\"\n",
    "\n",
    "\n",
    "n={\"harry\":\"30 march\",\"bob\":\"13 june\"}\n",
    "i=input(\"enter name\")\n",
    "if i in n:\n",
    "    print(f\"the birthday of {i} is: {n[i]}\")"
   ]
  }
 ],
 "metadata": {
  "kernelspec": {
   "display_name": "Python 3",
   "language": "python",
   "name": "python3"
  },
  "language_info": {
   "codemirror_mode": {
    "name": "ipython",
    "version": 3
   },
   "file_extension": ".py",
   "mimetype": "text/x-python",
   "name": "python",
   "nbconvert_exporter": "python",
   "pygments_lexer": "ipython3",
   "version": "3.12.2"
  }
 },
 "nbformat": 4,
 "nbformat_minor": 2
}
