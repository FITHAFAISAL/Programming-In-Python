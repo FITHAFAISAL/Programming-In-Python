{
 "cells": [
  {
   "cell_type": "code",
   "execution_count": null,
   "metadata": {},
   "outputs": [],
   "source": [
    "#How to draw a square and hexagon using turtle module in Python.\n",
    "\n",
    "from turtle import Turtle\n",
    "def drawsquare(t,length):\n",
    "    for count in range(4):\n",
    "        t.forward(length)\n",
    "        t.left(90)\n",
    "    t.penup()\n",
    "    t.goto(150, 0)  \n",
    "    t.pendown()\n",
    "\n",
    "def hexagon(t,length):\n",
    "    for count in range(6):\n",
    "        t.forward(length)\n",
    "        t.left(60)\n",
    "\n",
    "t=Turtle()\n",
    "drawsquare(t,30)\n",
    "hexagon(t,30)\n",
    "\n"
   ]
  },
  {
   "cell_type": "code",
   "execution_count": null,
   "metadata": {},
   "outputs": [],
   "source": [
    "#How to draw a square and hexagon using turtle module in Python.\n",
    "\n",
    "\n",
    "from turtle import Turtle\n",
    "def square(t,length):\n",
    "    for count in range(4):\n",
    "        t.forward(length)\n",
    "        t.left(90)\n",
    "\n",
    "def hexagon(t,length):\n",
    "    for count in range(6):\n",
    "        t.forward(length)\n",
    "        t.left(60)\n",
    "def radial(t,n,length,shape):\n",
    "    for i in range(n):\n",
    "        shape(t,length)\n",
    "        t.left(360/n)\n",
    "t=Turtle()\n",
    "radial(t,10,30,square)\n",
    "radial(t,10,30,hexagon)\n",
    "\n",
    "\n",
    "\n"
   ]
  },
  {
   "cell_type": "code",
   "execution_count": null,
   "metadata": {},
   "outputs": [],
   "source": [
    "#Write a Python program to draw a hexagon using turtle graphics.\n",
    "\n",
    "from turtle import Turtle\n",
    "def hexagon(t,length):\n",
    "    for count in range(6):\n",
    "        t.forward(length)\n",
    "        t.left(60)\n",
    "t=Turtle()\n",
    "hexagon(t,30)\n"
   ]
  },
  {
   "cell_type": "code",
   "execution_count": null,
   "metadata": {},
   "outputs": [],
   "source": [
    "#Write a python function to draw a square using turtle graphics\n",
    "from turtle import Turtle\n",
    "def drawsquare(t,length):\n",
    "    for count in range(4):\n",
    "        t.forward(length)\n",
    "        t.left(90)\n",
    "t=Turtle()\n",
    "drawsquare(t,30)"
   ]
  },
  {
   "cell_type": "code",
   "execution_count": null,
   "metadata": {},
   "outputs": [],
   "source": [
    "#Write a Python program to draw a hexagon and to fill it with red colour.\n",
    "\n",
    "from turtle import Turtle\n",
    "\n",
    "t = Turtle()\n",
    "t.color(\"red\")  \n",
    "t.begin_fill()\n",
    "\n",
    "for _ in range(6):\n",
    "    t.forward(100)  \n",
    "    t.right(60)     \n",
    "\n",
    "t.end_fill()  \n",
    "\n"
   ]
  },
  {
   "cell_type": "code",
   "execution_count": null,
   "metadata": {},
   "outputs": [],
   "source": [
    "#How to draw a star shape using turtle in Python.\n",
    "from turtle import Turtle\n",
    "\n",
    "t = Turtle()\n",
    "for i in range(5):\n",
    "    t.forward(150)  \n",
    "    t.right(144) "
   ]
  }
 ],
 "metadata": {
  "kernelspec": {
   "display_name": "Python 3",
   "language": "python",
   "name": "python3"
  },
  "language_info": {
   "codemirror_mode": {
    "name": "ipython",
    "version": 3
   },
   "file_extension": ".py",
   "mimetype": "text/x-python",
   "name": "python",
   "nbconvert_exporter": "python",
   "pygments_lexer": "ipython3",
   "version": "3.12.2"
  }
 },
 "nbformat": 4,
 "nbformat_minor": 2
}
